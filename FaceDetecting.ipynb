{
  "nbformat": 4,
  "nbformat_minor": 0,
  "metadata": {
    "colab": {
      "provenance": [],
      "gpuType": "T4"
    },
    "kernelspec": {
      "name": "python3",
      "display_name": "Python 3"
    },
    "language_info": {
      "name": "python"
    },
    "accelerator": "GPU"
  },
  "cells": [
    {
      "cell_type": "code",
      "source": [
        "# 1. Cài đặt các thư viện cần thiết\n",
        "print(\"Bắt đầu cài đặt thư viện...\")\n",
        "%pip install ultralytics gradio -q\n",
        "print(\"Cài đặt thành công!\")\n",
        "\n",
        "import gradio as gr\n",
        "from ultralytics import YOLO\n",
        "from PIL import Image\n",
        "import os\n",
        "\n",
        "# --- CẤU HÌNH CỦA BẠN (Đảm bảo chính xác) ---\n",
        "# Tên file model YOLOv11 của bạn\n",
        "model_path = 'best.pt'\n",
        "\n",
        "# Ánh xạ ID của lớp (class_id) với thông tin sinh viên\n",
        "# !!! ĐẢM BẢO THỨ TỰ NÀY KHỚP VỚI FILE data.yaml KHI BẠN TRAIN MODEL !!!\n",
        "student_info = {\n",
        "    0: \"Vân Anh - MSSV:31241024702 - Quê quán: Kiên Giang - Sinh viên năm 2 ngành Công nghệ Logistics Đại học Kinh tế TP.HCM\",\n",
        "    1: \"Đăng Khôi - MSSV:31241020719 - Quê quán: TP.HCM - Sinh viên năm 2 ngành Công nghệ Logistics Đại học Kinh tế TP.HCM\",\n",
        "    2: \"Trung Hiếu MSSV:31241022719 - Quê quán: An Giang - Sinh viên năm 2 ngành Công nghệ Logistics Đại học Kinh tế TP.HCM\"\n",
        "}\n",
        "# --- KẾT THÚC CẤU HÌNH CỦA BẠN ---\n",
        "\n",
        "# 2. Kiểm tra và tải mô hình\n",
        "print(\"Đang tải mô hình, vui lòng chờ...\")\n",
        "try:\n",
        "    if not os.path.exists(model_path):\n",
        "        raise FileNotFoundError(f\"Không tìm thấy file '{model_path}'. Vui lòng tải file model của bạn lên Colab.\")\n",
        "    model = YOLO(model_path)\n",
        "    print(\"Tải mô hình thành công!\")\n",
        "except Exception as e:\n",
        "    print(f\"Lỗi khi tải mô hình: {e}. Vui lòng kiểm tra lại đường dẫn hoặc file.\")\n",
        "    print(\"Sử dụng mô hình YOLOv8n mặc định để tiếp tục demo.\")\n",
        "    model = YOLO('yolov8n.pt')\n",
        "\n",
        "# 3. Hàm xử lý và nhận diện\n",
        "def recognize_face(input_image):\n",
        "    if input_image is None:\n",
        "        # Trả về placeholder trống và thông báo hướng dẫn\n",
        "        return None, \"<p style='text-align: center; color: #888;'>Vui lòng tải ảnh lên và nhấn nút 'Nhận Diện'</p>\"\n",
        "\n",
        "    image = Image.fromarray(input_image.astype('uint8'), 'RGB')\n",
        "    results = model(image, conf=0.5)\n",
        "    result = results[0]\n",
        "\n",
        "    if len(result.boxes) == 0:\n",
        "        # Trả về ảnh gốc và thông báo không tìm thấy\n",
        "        return input_image, \"<h3 style='color: #d9534f;'>Không tìm thấy khuôn mặt nào trong danh sách nhận diện.</h3>\"\n",
        "\n",
        "    annotated_image = result.plot()[..., ::-1]\n",
        "\n",
        "    output_texts = []\n",
        "    for box in result.boxes:\n",
        "        class_id = int(box.cls)\n",
        "        confidence = float(box.conf)\n",
        "        label = student_info.get(class_id, f\"Không rõ (ID: {class_id})\")\n",
        "        output_texts.append(f\"<li><b>{label}</b> (Độ tin cậy: {confidence:.2f})</li>\")\n",
        "\n",
        "    final_text = \"<h3>✨ Kết quả nhận diện:</h3><ul>\" + \"\".join(output_texts) + \"</ul>\"\n",
        "\n",
        "    return annotated_image, final_text\n",
        "\n",
        "# 4. Xây dựng giao diện với Gradio\n",
        "with gr.Blocks(theme=gr.themes.Soft(), title=\"FaceDetecting - Nhận Diện Thành Viên Nhóm\") as demo:\n",
        "    gr.Markdown(\n",
        "        \"\"\"\n",
        "        <h1 style=\"text-align: center; color: #4CAF50;\">✨ FaceDetecting ✨</h1>\n",
        "        <p style=\"text-align: center; font-size: 1.1em; color: #555;\">\n",
        "            Hệ thống nhận diện thành viên nhóm của chúng tôi (Vân Anh, Đăng Khôi, Trung Hiếu)\n",
        "            và hiển thị thông tin MSSV tương ứng.\n",
        "        </p>\n",
        "        \"\"\"\n",
        "    )\n",
        "\n",
        "    with gr.Row():\n",
        "        with gr.Column(scale=1):\n",
        "            image_input = gr.Image(type=\"numpy\", label=\"Ảnh Đầu Vào\", height=350)\n",
        "            btn = gr.Button(\"🚀 Nhận Diện Khuôn Mặt\", variant=\"primary\")\n",
        "\n",
        "        with gr.Column(scale=1):\n",
        "            gr.Markdown(\"<h3 style='text-align: center; color: #333;'>Kết Quả Nhận Diện</h3>\")\n",
        "\n",
        "            # === SỬA LỖI TẠI ĐÂY ===\n",
        "            # Thêm 'interactive=False' để ô kết quả chỉ hiển thị, không cho phép tải lên.\n",
        "            image_output = gr.Image(label=\"Ảnh đã được xử lý\", interactive=False, height=350)\n",
        "            text_output = gr.HTML(label=\"Thông tin chi tiết\")\n",
        "\n",
        "    # Liên kết nút bấm với hàm xử lý\n",
        "    btn.click(fn=recognize_face, inputs=image_input, outputs=[image_output, text_output])\n",
        "\n",
        "    gr.Markdown(\"<h3 style='text-align: center; color: #333; margin-top: 30px;'>Thử Với Các Ví Dụ Có Sẵn</h3>\")\n",
        "    gr.Examples(\n",
        "        examples=[\n",
        "            [\"/content/Vanh.jpg\"], # Thay bằng link ảnh thật\n",
        "            [\"/content/Khôi.jpg\"], # Thay bằng link ảnh thật\n",
        "            [\"/content/Hiếu.jpg\"]  # Thay bằng link ảnh thật\n",
        "        ],\n",
        "        inputs=image_input,\n",
        "        outputs=[image_output, text_output],\n",
        "        fn=recognize_face,\n",
        "        cache_examples=False,\n",
        "        label=\"Chọn một ảnh để xem kết quả nhanh\"\n",
        "    )\n",
        "\n",
        "    gr.Markdown(\n",
        "        \"\"\"\n",
        "        <p style=\"text-align: center; font-size: 0.8em; color: #999; margin-top: 50px;\">\n",
        "            © 2024 Nhóm XYZ - Powered by YOLOv11 & Gradio\n",
        "        </p>\n",
        "        \"\"\"\n",
        "    )\n",
        "\n",
        "# 5. Khởi chạy ứng dụng\n",
        "print(\"\\nĐang khởi chạy giao diện, vui lòng chờ một lát...\")\n",
        "demo.launch(debug=True, share=True)"
      ],
      "metadata": {
        "colab": {
          "base_uri": "https://localhost:8080/",
          "height": 975
        },
        "id": "E4MxIaU5MzN6",
        "outputId": "2d23a2c1-0871-492d-c52c-b8a4024285a3"
      },
      "execution_count": null,
      "outputs": [
        {
          "output_type": "stream",
          "name": "stdout",
          "text": [
            "Bắt đầu cài đặt thư viện...\n",
            "Cài đặt thành công!\n",
            "Đang tải mô hình, vui lòng chờ...\n",
            "Tải mô hình thành công!\n",
            "\n",
            "Đang khởi chạy giao diện, vui lòng chờ một lát...\n",
            "Colab notebook detected. This cell will run indefinitely so that you can see errors and logs. To turn off, set debug=False in launch().\n",
            "* Running on public URL: https://fdbfa8ddfb6ada6974.gradio.live\n",
            "\n",
            "This share link expires in 1 week. For free permanent hosting and GPU upgrades, run `gradio deploy` from the terminal in the working directory to deploy to Hugging Face Spaces (https://huggingface.co/spaces)\n"
          ]
        },
        {
          "output_type": "display_data",
          "data": {
            "text/plain": [
              "<IPython.core.display.HTML object>"
            ],
            "text/html": [
              "<div><iframe src=\"https://fdbfa8ddfb6ada6974.gradio.live\" width=\"100%\" height=\"500\" allow=\"autoplay; camera; microphone; clipboard-read; clipboard-write;\" frameborder=\"0\" allowfullscreen></iframe></div>"
            ]
          },
          "metadata": {}
        },
        {
          "output_type": "stream",
          "name": "stdout",
          "text": [
            "\n"
          ]
        },
        {
          "output_type": "stream",
          "name": "stderr",
          "text": [
            "/tmp/ipython-input-3479494814.py:42: DeprecationWarning: 'mode' parameter is deprecated and will be removed in Pillow 13 (2026-10-15)\n",
            "  image = Image.fromarray(input_image.astype('uint8'), 'RGB')\n"
          ]
        },
        {
          "output_type": "stream",
          "name": "stdout",
          "text": [
            "0: 640x480 1 Đăng Khôi 31241020719, 47.0ms\n",
            "Speed: 3.8ms preprocess, 47.0ms inference, 2.0ms postprocess per image at shape (1, 3, 640, 480)\n",
            "\n",
            "0: 640x480 1 Đăng Khôi 31241020719, 8.2ms\n",
            "Speed: 3.0ms preprocess, 8.2ms inference, 1.8ms postprocess per image at shape (1, 3, 640, 480)\n"
          ]
        },
        {
          "output_type": "stream",
          "name": "stderr",
          "text": [
            "/tmp/ipython-input-3479494814.py:42: DeprecationWarning: 'mode' parameter is deprecated and will be removed in Pillow 13 (2026-10-15)\n",
            "  image = Image.fromarray(input_image.astype('uint8'), 'RGB')\n"
          ]
        },
        {
          "output_type": "stream",
          "name": "stdout",
          "text": [
            "\n",
            "0: 384x640 1 Đăng Khôi 31241020719, 50.2ms\n",
            "Speed: 2.2ms preprocess, 50.2ms inference, 1.5ms postprocess per image at shape (1, 3, 384, 640)\n"
          ]
        },
        {
          "output_type": "stream",
          "name": "stderr",
          "text": [
            "/tmp/ipython-input-3479494814.py:42: DeprecationWarning: 'mode' parameter is deprecated and will be removed in Pillow 13 (2026-10-15)\n",
            "  image = Image.fromarray(input_image.astype('uint8'), 'RGB')\n"
          ]
        }
      ]
    }
  ]
}