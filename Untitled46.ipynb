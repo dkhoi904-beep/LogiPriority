{
  "nbformat": 4,
  "nbformat_minor": 0,
  "metadata": {
    "colab": {
      "provenance": [],
      "gpuType": "T4"
    },
    "kernelspec": {
      "name": "python3",
      "display_name": "Python 3"
    },
    "language_info": {
      "name": "python"
    },
    "accelerator": "GPU"
  },
  "cells": [
    {
      "cell_type": "code",
      "source": [
        "# 1. Cài đặt các thư viện cần thiết\n",
        "print(\"Bắt đầu cài đặt thư viện...\")\n",
        "%pip install ultralytics gradio -q\n",
        "print(\"Cài đặt thành công!\")\n",
        "\n",
        "import gradio as gr\n",
        "from ultralytics import YOLO\n",
        "from PIL import Image\n",
        "import os\n",
        "\n",
        "# 2. Kiểm tra và tải mô hình\n",
        "model_path = 'best.pt'\n",
        "if not os.path.exists(model_path):\n",
        "    raise FileNotFoundError(f\"Không tìm thấy file '{model_path}'. Vui lòng tải file model của bạn lên Colab.\")\n",
        "\n",
        "print(\"Đang tải mô hình, vui lòng chờ...\")\n",
        "model = YOLO(model_path)\n",
        "print(\"Tải mô hình thành công!\")\n",
        "\n",
        "# 3. CHỈNH SỬA TẠI ĐÂY: Ánh xạ ID và thông tin sinh viên\n",
        "# !!! ĐẢM BẢO THỨ TỰ NÀY KHỚP VỚI FILE data.yaml CỦA BẠN !!!\n",
        "student_info = {\n",
        "    0: \"Vân Anh - 31241024702\",\n",
        "    1: \"Đăng Khôi - 31241020719\",\n",
        "    2: \"Trung Hiếu - 31241022719\"\n",
        "    # Thêm các thành viên khác nếu có\n",
        "}\n",
        "\n",
        "# 4. Hàm xử lý và nhận diện\n",
        "def recognize_face(input_image):\n",
        "    if input_image is None:\n",
        "        return None, \"Vui lòng tải ảnh lên.\"\n",
        "\n",
        "    # Chuyển đổi ảnh đầu vào sang định dạng PIL.Image\n",
        "    image = Image.fromarray(input_image.astype('uint8'), 'RGB')\n",
        "\n",
        "    # Thực hiện dự đoán\n",
        "    results = model(image, conf=0.5) # Chỉ lấy các kết quả có độ tin cậy > 50%\n",
        "    result = results[0]\n",
        "\n",
        "    # Kiểm tra xem có nhận diện được ai không\n",
        "    if len(result.boxes) == 0:\n",
        "        return input_image, \"Không nhận diện được khuôn mặt nào trong danh sách.\"\n",
        "\n",
        "    # Vẽ bounding box và label lên ảnh\n",
        "    # result.plot() trả về ảnh dạng BGR, cần chuyển sang RGB cho Gradio\n",
        "    annotated_image = result.plot()[..., ::-1]\n",
        "\n",
        "    # Lấy thông tin của các đối tượng nhận diện được\n",
        "    output_texts = []\n",
        "    for box in result.boxes:\n",
        "        class_id = int(box.cls)\n",
        "        confidence = float(box.conf)\n",
        "        label = student_info.get(class_id, f\"Không rõ (ID: {class_id})\")\n",
        "        output_texts.append(f\"- **{label}** (Độ tin cậy: {confidence:.2f})\")\n",
        "\n",
        "    final_text = \"Kết quả nhận diện:\\n\" + \"\\n\".join(output_texts)\n",
        "\n",
        "    return annotated_image, final_text\n",
        "\n",
        "# 5. Xây dựng giao diện\n",
        "with gr.Blocks(theme=gr.themes.Monochrome()) as demo:\n",
        "    gr.Markdown(\n",
        "        \"\"\"\n",
        "        # 🤖 HỆ THỐNG NHẬN DIỆN THÀNH VIÊN NHÓM\n",
        "        Tải lên một bức ảnh để nhận diện thành viên và xem MSSV tương ứng.\n",
        "        \"\"\"\n",
        "    )\n",
        "    with gr.Row():\n",
        "        image_input = gr.Image(type=\"numpy\", label=\"Ảnh đầu vào\")\n",
        "        with gr.Column():\n",
        "            image_output = gr.Image(label=\"Kết quả\")\n",
        "            text_output = gr.Markdown()\n",
        "\n",
        "    btn = gr.Button(\"Nhận diện\", variant=\"primary\")\n",
        "    btn.click(fn=recognize_face, inputs=image_input, outputs=[image_output, text_output])\n",
        "\n",
        "    gr.Examples(\n",
        "        [[\"hieu.jpg\"], [\"khoi.jpg\"]], # Thêm tên file ảnh ví dụ bạn đã tải lên Colab\n",
        "        inputs=image_input,\n",
        "        outputs=[image_output, text_output],\n",
        "        fn=recognize_face,\n",
        "        cache_examples=False\n",
        "    )\n",
        "\n",
        "\n",
        "# 6. Khởi chạy ứng dụng\n",
        "print(\"\\nĐang khởi chạy giao diện, vui lòng chờ một lát...\")\n",
        "demo.launch(debug=True, share=True)"
      ],
      "metadata": {
        "colab": {
          "base_uri": "https://localhost:8080/",
          "height": 1000
        },
        "id": "Ky0hD6gEIBiO",
        "outputId": "15ac1cf6-cf11-4bc3-c622-2e4c46afc2a2"
      },
      "execution_count": 1,
      "outputs": [
        {
          "output_type": "stream",
          "name": "stdout",
          "text": [
            "Bắt đầu cài đặt thư viện...\n",
            "\u001b[2K   \u001b[90m━━━━━━━━━━━━━━━━━━━━━━━━━━━━━━━━━━━━━━━━\u001b[0m \u001b[32m1.1/1.1 MB\u001b[0m \u001b[31m26.9 MB/s\u001b[0m eta \u001b[36m0:00:00\u001b[0m\n",
            "\u001b[?25hCài đặt thành công!\n",
            "Creating new Ultralytics Settings v0.0.6 file ✅ \n",
            "View Ultralytics Settings with 'yolo settings' or at '/root/.config/Ultralytics/settings.json'\n",
            "Update Settings with 'yolo settings key=value', i.e. 'yolo settings runs_dir=path/to/dir'. For help see https://docs.ultralytics.com/quickstart/#ultralytics-settings.\n",
            "Đang tải mô hình, vui lòng chờ...\n",
            "Tải mô hình thành công!\n",
            "\n",
            "Đang khởi chạy giao diện, vui lòng chờ một lát...\n",
            "Colab notebook detected. This cell will run indefinitely so that you can see errors and logs. To turn off, set debug=False in launch().\n",
            "* Running on public URL: https://c8e82539c09f358a87.gradio.live\n",
            "\n",
            "This share link expires in 1 week. For free permanent hosting and GPU upgrades, run `gradio deploy` from the terminal in the working directory to deploy to Hugging Face Spaces (https://huggingface.co/spaces)\n"
          ]
        },
        {
          "output_type": "display_data",
          "data": {
            "text/plain": [
              "<IPython.core.display.HTML object>"
            ],
            "text/html": [
              "<div><iframe src=\"https://c8e82539c09f358a87.gradio.live\" width=\"100%\" height=\"500\" allow=\"autoplay; camera; microphone; clipboard-read; clipboard-write;\" frameborder=\"0\" allowfullscreen></iframe></div>"
            ]
          },
          "metadata": {}
        },
        {
          "output_type": "stream",
          "name": "stderr",
          "text": [
            "/tmp/ipython-input-1436302145.py:35: DeprecationWarning: 'mode' parameter is deprecated and will be removed in Pillow 13 (2026-10-15)\n",
            "  image = Image.fromarray(input_image.astype('uint8'), 'RGB')\n"
          ]
        },
        {
          "output_type": "stream",
          "name": "stdout",
          "text": [
            "\n",
            "0: 384x640 1 Đăng Khôi 31241020719, 49.1ms\n",
            "Speed: 27.5ms preprocess, 49.1ms inference, 315.2ms postprocess per image at shape (1, 3, 384, 640)\n",
            "\u001b[KDownloading https://ultralytics.com/assets/Arial.Unicode.ttf to '/root/.config/Ultralytics/Arial.Unicode.ttf': 100% ━━━━━━━━━━━━ 22.2MB 109.1MB/s 0.2s\n",
            "\n",
            "0: 640x480 1 Đăng Khôi 31241020719, 46.3ms\n",
            "Speed: 11.0ms preprocess, 46.3ms inference, 1.6ms postprocess per image at shape (1, 3, 640, 480)\n"
          ]
        },
        {
          "output_type": "stream",
          "name": "stderr",
          "text": [
            "/tmp/ipython-input-1436302145.py:35: DeprecationWarning: 'mode' parameter is deprecated and will be removed in Pillow 13 (2026-10-15)\n",
            "  image = Image.fromarray(input_image.astype('uint8'), 'RGB')\n"
          ]
        },
        {
          "output_type": "stream",
          "name": "stdout",
          "text": [
            "\n",
            "0: 640x480 1 Đăng Khôi 31241020719, 10.1ms\n",
            "Speed: 3.9ms preprocess, 10.1ms inference, 1.7ms postprocess per image at shape (1, 3, 640, 480)\n"
          ]
        },
        {
          "output_type": "stream",
          "name": "stderr",
          "text": [
            "/tmp/ipython-input-1436302145.py:35: DeprecationWarning: 'mode' parameter is deprecated and will be removed in Pillow 13 (2026-10-15)\n",
            "  image = Image.fromarray(input_image.astype('uint8'), 'RGB')\n"
          ]
        },
        {
          "output_type": "stream",
          "name": "stdout",
          "text": [
            "Keyboard interruption in main thread... closing server.\n",
            "Killing tunnel 127.0.0.1:7860 <> https://c8e82539c09f358a87.gradio.live\n"
          ]
        },
        {
          "output_type": "execute_result",
          "data": {
            "text/plain": []
          },
          "metadata": {},
          "execution_count": 1
        }
      ]
    },
    {
      "cell_type": "code",
      "source": [
        "# 1. Cài đặt các thư viện cần thiết\n",
        "print(\"Bắt đầu cài đặt thư viện...\")\n",
        "%pip install ultralytics gradio -q\n",
        "print(\"Cài đặt thành công!\")\n",
        "\n",
        "import gradio as gr\n",
        "from ultralytics import YOLO\n",
        "from PIL import Image\n",
        "import os\n",
        "\n",
        "# --- CẤU HÌNH CỦA BẠN (Đảm bảo chính xác) ---\n",
        "# Tên file model YOLOv11 của bạn\n",
        "model_path = 'best.pt'\n",
        "\n",
        "# Ánh xạ ID của lớp (class_id) với thông tin sinh viên\n",
        "# !!! ĐẢM BẢO THỨ TỰ NÀY KHỚP VỚI FILE data.yaml KHI BẠN TRAIN MODEL !!!\n",
        "student_info = {\n",
        "    0: \"Vân Anh - MSSV:31241024702 - Quê quán: Kiên Giang - Sinh viên năm 2 ngành Công nghệ Logistics Đại học Kinh tế TP.HCM\",\n",
        "    1: \"Đăng Khôi - MSSV:31241020719 - Quê quán: TP.HCM - Sinh viên năm 2 ngành Công nghệ Logistics Đại học Kinh tế TP.HCM\",\n",
        "    2: \"Trung Hiếu MSSV:31241022719 - Quê quán: An Giang - Sinh viên năm 2 ngành Công nghệ Logistics Đại học Kinh tế TP.HCM\"\n",
        "}\n",
        "# --- KẾT THÚC CẤU HÌNH CỦA BẠN ---\n",
        "\n",
        "# 2. Kiểm tra và tải mô hình\n",
        "print(\"Đang tải mô hình, vui lòng chờ...\")\n",
        "try:\n",
        "    if not os.path.exists(model_path):\n",
        "        raise FileNotFoundError(f\"Không tìm thấy file '{model_path}'. Vui lòng tải file model của bạn lên Colab.\")\n",
        "    model = YOLO(model_path)\n",
        "    print(\"Tải mô hình thành công!\")\n",
        "except Exception as e:\n",
        "    print(f\"Lỗi khi tải mô hình: {e}. Vui lòng kiểm tra lại đường dẫn hoặc file.\")\n",
        "    print(\"Sử dụng mô hình YOLOv8n mặc định để tiếp tục demo.\")\n",
        "    model = YOLO('yolov8n.pt')\n",
        "\n",
        "# 3. Hàm xử lý và nhận diện\n",
        "def recognize_face(input_image):\n",
        "    if input_image is None:\n",
        "        # Trả về placeholder trống và thông báo hướng dẫn\n",
        "        return None, \"<p style='text-align: center; color: #888;'>Vui lòng tải ảnh lên và nhấn nút 'Nhận Diện'</p>\"\n",
        "\n",
        "    image = Image.fromarray(input_image.astype('uint8'), 'RGB')\n",
        "    results = model(image, conf=0.5)\n",
        "    result = results[0]\n",
        "\n",
        "    if len(result.boxes) == 0:\n",
        "        # Trả về ảnh gốc và thông báo không tìm thấy\n",
        "        return input_image, \"<h3 style='color: #d9534f;'>Không tìm thấy khuôn mặt nào trong danh sách nhận diện.</h3>\"\n",
        "\n",
        "    annotated_image = result.plot()[..., ::-1]\n",
        "\n",
        "    output_texts = []\n",
        "    for box in result.boxes:\n",
        "        class_id = int(box.cls)\n",
        "        confidence = float(box.conf)\n",
        "        label = student_info.get(class_id, f\"Không rõ (ID: {class_id})\")\n",
        "        output_texts.append(f\"<li><b>{label}</b> (Độ tin cậy: {confidence:.2f})</li>\")\n",
        "\n",
        "    final_text = \"<h3>✨ Kết quả nhận diện:</h3><ul>\" + \"\".join(output_texts) + \"</ul>\"\n",
        "\n",
        "    return annotated_image, final_text\n",
        "\n",
        "# 4. Xây dựng giao diện với Gradio\n",
        "with gr.Blocks(theme=gr.themes.Soft(), title=\"FaceDetecting - Nhận Diện Thành Viên Nhóm\") as demo:\n",
        "    gr.Markdown(\n",
        "        \"\"\"\n",
        "        <h1 style=\"text-align: center; color: #4CAF50;\">✨ FaceDetecting ✨</h1>\n",
        "        <p style=\"text-align: center; font-size: 1.1em; color: #555;\">\n",
        "            Hệ thống nhận diện thành viên nhóm của chúng tôi (Vân Anh, Đăng Khôi, Trung Hiếu)\n",
        "            và hiển thị thông tin MSSV tương ứng.\n",
        "        </p>\n",
        "        \"\"\"\n",
        "    )\n",
        "\n",
        "    with gr.Row():\n",
        "        with gr.Column(scale=1):\n",
        "            image_input = gr.Image(type=\"numpy\", label=\"Ảnh Đầu Vào\", height=350)\n",
        "            btn = gr.Button(\"🚀 Nhận Diện Khuôn Mặt\", variant=\"primary\")\n",
        "\n",
        "        with gr.Column(scale=1):\n",
        "            gr.Markdown(\"<h3 style='text-align: center; color: #333;'>Kết Quả Nhận Diện</h3>\")\n",
        "\n",
        "            # === SỬA LỖI TẠI ĐÂY ===\n",
        "            # Thêm 'interactive=False' để ô kết quả chỉ hiển thị, không cho phép tải lên.\n",
        "            image_output = gr.Image(label=\"Ảnh đã được xử lý\", interactive=False, height=350)\n",
        "            text_output = gr.HTML(label=\"Thông tin chi tiết\")\n",
        "\n",
        "    # Liên kết nút bấm với hàm xử lý\n",
        "    btn.click(fn=recognize_face, inputs=image_input, outputs=[image_output, text_output])\n",
        "\n",
        "    gr.Markdown(\"<h3 style='text-align: center; color: #333; margin-top: 30px;'>Thử Với Các Ví Dụ Có Sẵn</h3>\")\n",
        "    gr.Examples(\n",
        "        examples=[\n",
        "            [\"/content/Vanh.jpg\"], # Thay bằng link ảnh thật\n",
        "            [\"/content/Khôi.jpg\"], # Thay bằng link ảnh thật\n",
        "            [\"/content/Hiếu.jpg\"]  # Thay bằng link ảnh thật\n",
        "        ],\n",
        "        inputs=image_input,\n",
        "        outputs=[image_output, text_output],\n",
        "        fn=recognize_face,\n",
        "        cache_examples=False,\n",
        "        label=\"Chọn một ảnh để xem kết quả nhanh\"\n",
        "    )\n",
        "\n",
        "    gr.Markdown(\n",
        "        \"\"\"\n",
        "        <p style=\"text-align: center; font-size: 0.8em; color: #999; margin-top: 50px;\">\n",
        "            © 2024 Nhóm XYZ - Powered by YOLOv11 & Gradio\n",
        "        </p>\n",
        "        \"\"\"\n",
        "    )\n",
        "\n",
        "# 5. Khởi chạy ứng dụng\n",
        "print(\"\\nĐang khởi chạy giao diện, vui lòng chờ một lát...\")\n",
        "demo.launch(debug=True, share=True)"
      ],
      "metadata": {
        "colab": {
          "base_uri": "https://localhost:8080/",
          "height": 975
        },
        "id": "E4MxIaU5MzN6",
        "outputId": "2d23a2c1-0871-492d-c52c-b8a4024285a3"
      },
      "execution_count": null,
      "outputs": [
        {
          "output_type": "stream",
          "name": "stdout",
          "text": [
            "Bắt đầu cài đặt thư viện...\n",
            "Cài đặt thành công!\n",
            "Đang tải mô hình, vui lòng chờ...\n",
            "Tải mô hình thành công!\n",
            "\n",
            "Đang khởi chạy giao diện, vui lòng chờ một lát...\n",
            "Colab notebook detected. This cell will run indefinitely so that you can see errors and logs. To turn off, set debug=False in launch().\n",
            "* Running on public URL: https://fdbfa8ddfb6ada6974.gradio.live\n",
            "\n",
            "This share link expires in 1 week. For free permanent hosting and GPU upgrades, run `gradio deploy` from the terminal in the working directory to deploy to Hugging Face Spaces (https://huggingface.co/spaces)\n"
          ]
        },
        {
          "output_type": "display_data",
          "data": {
            "text/plain": [
              "<IPython.core.display.HTML object>"
            ],
            "text/html": [
              "<div><iframe src=\"https://fdbfa8ddfb6ada6974.gradio.live\" width=\"100%\" height=\"500\" allow=\"autoplay; camera; microphone; clipboard-read; clipboard-write;\" frameborder=\"0\" allowfullscreen></iframe></div>"
            ]
          },
          "metadata": {}
        },
        {
          "output_type": "stream",
          "name": "stdout",
          "text": [
            "\n"
          ]
        },
        {
          "output_type": "stream",
          "name": "stderr",
          "text": [
            "/tmp/ipython-input-3479494814.py:42: DeprecationWarning: 'mode' parameter is deprecated and will be removed in Pillow 13 (2026-10-15)\n",
            "  image = Image.fromarray(input_image.astype('uint8'), 'RGB')\n"
          ]
        },
        {
          "output_type": "stream",
          "name": "stdout",
          "text": [
            "0: 640x480 1 Đăng Khôi 31241020719, 47.0ms\n",
            "Speed: 3.8ms preprocess, 47.0ms inference, 2.0ms postprocess per image at shape (1, 3, 640, 480)\n",
            "\n",
            "0: 640x480 1 Đăng Khôi 31241020719, 8.2ms\n",
            "Speed: 3.0ms preprocess, 8.2ms inference, 1.8ms postprocess per image at shape (1, 3, 640, 480)\n"
          ]
        },
        {
          "output_type": "stream",
          "name": "stderr",
          "text": [
            "/tmp/ipython-input-3479494814.py:42: DeprecationWarning: 'mode' parameter is deprecated and will be removed in Pillow 13 (2026-10-15)\n",
            "  image = Image.fromarray(input_image.astype('uint8'), 'RGB')\n"
          ]
        },
        {
          "output_type": "stream",
          "name": "stdout",
          "text": [
            "\n",
            "0: 384x640 1 Đăng Khôi 31241020719, 50.2ms\n",
            "Speed: 2.2ms preprocess, 50.2ms inference, 1.5ms postprocess per image at shape (1, 3, 384, 640)\n"
          ]
        },
        {
          "output_type": "stream",
          "name": "stderr",
          "text": [
            "/tmp/ipython-input-3479494814.py:42: DeprecationWarning: 'mode' parameter is deprecated and will be removed in Pillow 13 (2026-10-15)\n",
            "  image = Image.fromarray(input_image.astype('uint8'), 'RGB')\n"
          ]
        }
      ]
    }
  ]
}